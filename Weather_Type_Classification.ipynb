{
  "nbformat": 4,
  "nbformat_minor": 0,
  "metadata": {
    "colab": {
      "provenance": [],
      "toc_visible": true,
      "authorship_tag": "ABX9TyOAUA1rQAbNQRX95uQQ/Hbb",
      "include_colab_link": true
    },
    "kernelspec": {
      "name": "python3",
      "display_name": "Python 3"
    },
    "language_info": {
      "name": "python"
    }
  },
  "cells": [
    {
      "cell_type": "markdown",
      "metadata": {
        "id": "view-in-github",
        "colab_type": "text"
      },
      "source": [
        "<a href=\"https://colab.research.google.com/github/WesleySouza13/Redes-Neurais-e-Deep-Learning-/blob/main/Weather_Type_Classification.ipynb\" target=\"_parent\"><img src=\"https://colab.research.google.com/assets/colab-badge.svg\" alt=\"Open In Colab\"/></a>"
      ]
    },
    {
      "cell_type": "markdown",
      "source": [
        "Este conjunto de dados é gerado sinteticamente para simular dados meteorológicos em tarefas de classificação. Ele inclui várias características relacionadas ao clima e categoriza o tempo em quatro tipos: Chuvoso, Ensolarado, Nublado e Nevado. Este conjunto de dados foi projetado para praticar algoritmos de classificação, pré-processamento de dados e métodos de detecção de valores atípicos.\n",
        "\n",
        "\n",
        "Você pode encontra-lo em:\n",
        "https://www.kaggle.com/datasets/nikhil7280/weather-type-classification\n",
        "\n",
        "\n",
        "\n"
      ],
      "metadata": {
        "id": "XG-BNO3sq5wI"
      }
    },
    {
      "cell_type": "markdown",
      "source": [
        "#Importação de bibliotecas"
      ],
      "metadata": {
        "id": "KPckZE-VDQFK"
      }
    },
    {
      "cell_type": "code",
      "source": [
        "import pandas as pd\n",
        "import numpy as np"
      ],
      "metadata": {
        "id": "XqzSkMaxq9d8"
      },
      "execution_count": 137,
      "outputs": []
    },
    {
      "cell_type": "code",
      "source": [
        "df = pd.read_csv('/content/weather_classification_data.csv')"
      ],
      "metadata": {
        "id": "Y3FAT9edq_nJ"
      },
      "execution_count": 3,
      "outputs": []
    },
    {
      "cell_type": "code",
      "source": [
        "df"
      ],
      "metadata": {
        "colab": {
          "base_uri": "https://localhost:8080/",
          "height": 475
        },
        "id": "AbMzkMjCrDbx",
        "outputId": "8dd775c3-75b1-417f-cf94-a8ae8ac7f7db"
      },
      "execution_count": 4,
      "outputs": [
        {
          "output_type": "execute_result",
          "data": {
            "text/plain": [
              "       Temperature  Humidity  Wind Speed  Precipitation (%)    Cloud Cover  \\\n",
              "0             14.0        73         9.5               82.0  partly cloudy   \n",
              "1             39.0        96         8.5               71.0  partly cloudy   \n",
              "2             30.0        64         7.0               16.0          clear   \n",
              "3             38.0        83         1.5               82.0          clear   \n",
              "4             27.0        74        17.0               66.0       overcast   \n",
              "...            ...       ...         ...                ...            ...   \n",
              "13195         10.0        74        14.5               71.0       overcast   \n",
              "13196         -1.0        76         3.5               23.0         cloudy   \n",
              "13197         30.0        77         5.5               28.0       overcast   \n",
              "13198          3.0        76        10.0               94.0       overcast   \n",
              "13199         -5.0        38         0.0               92.0       overcast   \n",
              "\n",
              "       Atmospheric Pressure  UV Index  Season  Visibility (km)  Location  \\\n",
              "0                   1010.82         2  Winter              3.5    inland   \n",
              "1                   1011.43         7  Spring             10.0    inland   \n",
              "2                   1018.72         5  Spring              5.5  mountain   \n",
              "3                   1026.25         7  Spring              1.0   coastal   \n",
              "4                    990.67         1  Winter              2.5  mountain   \n",
              "...                     ...       ...     ...              ...       ...   \n",
              "13195               1003.15         1  Summer              1.0  mountain   \n",
              "13196               1067.23         1  Winter              6.0   coastal   \n",
              "13197               1012.69         3  Autumn              9.0   coastal   \n",
              "13198                984.27         0  Winter              2.0    inland   \n",
              "13199               1015.37         5  Autumn             10.0  mountain   \n",
              "\n",
              "      Weather Type  \n",
              "0            Rainy  \n",
              "1           Cloudy  \n",
              "2            Sunny  \n",
              "3            Sunny  \n",
              "4            Rainy  \n",
              "...            ...  \n",
              "13195        Rainy  \n",
              "13196        Snowy  \n",
              "13197       Cloudy  \n",
              "13198        Snowy  \n",
              "13199        Rainy  \n",
              "\n",
              "[13200 rows x 11 columns]"
            ],
            "text/html": [
              "\n",
              "  <div id=\"df-a7f7c394-9df2-4a35-bfea-6e678cd71f18\" class=\"colab-df-container\">\n",
              "    <div>\n",
              "<style scoped>\n",
              "    .dataframe tbody tr th:only-of-type {\n",
              "        vertical-align: middle;\n",
              "    }\n",
              "\n",
              "    .dataframe tbody tr th {\n",
              "        vertical-align: top;\n",
              "    }\n",
              "\n",
              "    .dataframe thead th {\n",
              "        text-align: right;\n",
              "    }\n",
              "</style>\n",
              "<table border=\"1\" class=\"dataframe\">\n",
              "  <thead>\n",
              "    <tr style=\"text-align: right;\">\n",
              "      <th></th>\n",
              "      <th>Temperature</th>\n",
              "      <th>Humidity</th>\n",
              "      <th>Wind Speed</th>\n",
              "      <th>Precipitation (%)</th>\n",
              "      <th>Cloud Cover</th>\n",
              "      <th>Atmospheric Pressure</th>\n",
              "      <th>UV Index</th>\n",
              "      <th>Season</th>\n",
              "      <th>Visibility (km)</th>\n",
              "      <th>Location</th>\n",
              "      <th>Weather Type</th>\n",
              "    </tr>\n",
              "  </thead>\n",
              "  <tbody>\n",
              "    <tr>\n",
              "      <th>0</th>\n",
              "      <td>14.0</td>\n",
              "      <td>73</td>\n",
              "      <td>9.5</td>\n",
              "      <td>82.0</td>\n",
              "      <td>partly cloudy</td>\n",
              "      <td>1010.82</td>\n",
              "      <td>2</td>\n",
              "      <td>Winter</td>\n",
              "      <td>3.5</td>\n",
              "      <td>inland</td>\n",
              "      <td>Rainy</td>\n",
              "    </tr>\n",
              "    <tr>\n",
              "      <th>1</th>\n",
              "      <td>39.0</td>\n",
              "      <td>96</td>\n",
              "      <td>8.5</td>\n",
              "      <td>71.0</td>\n",
              "      <td>partly cloudy</td>\n",
              "      <td>1011.43</td>\n",
              "      <td>7</td>\n",
              "      <td>Spring</td>\n",
              "      <td>10.0</td>\n",
              "      <td>inland</td>\n",
              "      <td>Cloudy</td>\n",
              "    </tr>\n",
              "    <tr>\n",
              "      <th>2</th>\n",
              "      <td>30.0</td>\n",
              "      <td>64</td>\n",
              "      <td>7.0</td>\n",
              "      <td>16.0</td>\n",
              "      <td>clear</td>\n",
              "      <td>1018.72</td>\n",
              "      <td>5</td>\n",
              "      <td>Spring</td>\n",
              "      <td>5.5</td>\n",
              "      <td>mountain</td>\n",
              "      <td>Sunny</td>\n",
              "    </tr>\n",
              "    <tr>\n",
              "      <th>3</th>\n",
              "      <td>38.0</td>\n",
              "      <td>83</td>\n",
              "      <td>1.5</td>\n",
              "      <td>82.0</td>\n",
              "      <td>clear</td>\n",
              "      <td>1026.25</td>\n",
              "      <td>7</td>\n",
              "      <td>Spring</td>\n",
              "      <td>1.0</td>\n",
              "      <td>coastal</td>\n",
              "      <td>Sunny</td>\n",
              "    </tr>\n",
              "    <tr>\n",
              "      <th>4</th>\n",
              "      <td>27.0</td>\n",
              "      <td>74</td>\n",
              "      <td>17.0</td>\n",
              "      <td>66.0</td>\n",
              "      <td>overcast</td>\n",
              "      <td>990.67</td>\n",
              "      <td>1</td>\n",
              "      <td>Winter</td>\n",
              "      <td>2.5</td>\n",
              "      <td>mountain</td>\n",
              "      <td>Rainy</td>\n",
              "    </tr>\n",
              "    <tr>\n",
              "      <th>...</th>\n",
              "      <td>...</td>\n",
              "      <td>...</td>\n",
              "      <td>...</td>\n",
              "      <td>...</td>\n",
              "      <td>...</td>\n",
              "      <td>...</td>\n",
              "      <td>...</td>\n",
              "      <td>...</td>\n",
              "      <td>...</td>\n",
              "      <td>...</td>\n",
              "      <td>...</td>\n",
              "    </tr>\n",
              "    <tr>\n",
              "      <th>13195</th>\n",
              "      <td>10.0</td>\n",
              "      <td>74</td>\n",
              "      <td>14.5</td>\n",
              "      <td>71.0</td>\n",
              "      <td>overcast</td>\n",
              "      <td>1003.15</td>\n",
              "      <td>1</td>\n",
              "      <td>Summer</td>\n",
              "      <td>1.0</td>\n",
              "      <td>mountain</td>\n",
              "      <td>Rainy</td>\n",
              "    </tr>\n",
              "    <tr>\n",
              "      <th>13196</th>\n",
              "      <td>-1.0</td>\n",
              "      <td>76</td>\n",
              "      <td>3.5</td>\n",
              "      <td>23.0</td>\n",
              "      <td>cloudy</td>\n",
              "      <td>1067.23</td>\n",
              "      <td>1</td>\n",
              "      <td>Winter</td>\n",
              "      <td>6.0</td>\n",
              "      <td>coastal</td>\n",
              "      <td>Snowy</td>\n",
              "    </tr>\n",
              "    <tr>\n",
              "      <th>13197</th>\n",
              "      <td>30.0</td>\n",
              "      <td>77</td>\n",
              "      <td>5.5</td>\n",
              "      <td>28.0</td>\n",
              "      <td>overcast</td>\n",
              "      <td>1012.69</td>\n",
              "      <td>3</td>\n",
              "      <td>Autumn</td>\n",
              "      <td>9.0</td>\n",
              "      <td>coastal</td>\n",
              "      <td>Cloudy</td>\n",
              "    </tr>\n",
              "    <tr>\n",
              "      <th>13198</th>\n",
              "      <td>3.0</td>\n",
              "      <td>76</td>\n",
              "      <td>10.0</td>\n",
              "      <td>94.0</td>\n",
              "      <td>overcast</td>\n",
              "      <td>984.27</td>\n",
              "      <td>0</td>\n",
              "      <td>Winter</td>\n",
              "      <td>2.0</td>\n",
              "      <td>inland</td>\n",
              "      <td>Snowy</td>\n",
              "    </tr>\n",
              "    <tr>\n",
              "      <th>13199</th>\n",
              "      <td>-5.0</td>\n",
              "      <td>38</td>\n",
              "      <td>0.0</td>\n",
              "      <td>92.0</td>\n",
              "      <td>overcast</td>\n",
              "      <td>1015.37</td>\n",
              "      <td>5</td>\n",
              "      <td>Autumn</td>\n",
              "      <td>10.0</td>\n",
              "      <td>mountain</td>\n",
              "      <td>Rainy</td>\n",
              "    </tr>\n",
              "  </tbody>\n",
              "</table>\n",
              "<p>13200 rows × 11 columns</p>\n",
              "</div>\n",
              "    <div class=\"colab-df-buttons\">\n",
              "\n",
              "  <div class=\"colab-df-container\">\n",
              "    <button class=\"colab-df-convert\" onclick=\"convertToInteractive('df-a7f7c394-9df2-4a35-bfea-6e678cd71f18')\"\n",
              "            title=\"Convert this dataframe to an interactive table.\"\n",
              "            style=\"display:none;\">\n",
              "\n",
              "  <svg xmlns=\"http://www.w3.org/2000/svg\" height=\"24px\" viewBox=\"0 -960 960 960\">\n",
              "    <path d=\"M120-120v-720h720v720H120Zm60-500h600v-160H180v160Zm220 220h160v-160H400v160Zm0 220h160v-160H400v160ZM180-400h160v-160H180v160Zm440 0h160v-160H620v160ZM180-180h160v-160H180v160Zm440 0h160v-160H620v160Z\"/>\n",
              "  </svg>\n",
              "    </button>\n",
              "\n",
              "  <style>\n",
              "    .colab-df-container {\n",
              "      display:flex;\n",
              "      gap: 12px;\n",
              "    }\n",
              "\n",
              "    .colab-df-convert {\n",
              "      background-color: #E8F0FE;\n",
              "      border: none;\n",
              "      border-radius: 50%;\n",
              "      cursor: pointer;\n",
              "      display: none;\n",
              "      fill: #1967D2;\n",
              "      height: 32px;\n",
              "      padding: 0 0 0 0;\n",
              "      width: 32px;\n",
              "    }\n",
              "\n",
              "    .colab-df-convert:hover {\n",
              "      background-color: #E2EBFA;\n",
              "      box-shadow: 0px 1px 2px rgba(60, 64, 67, 0.3), 0px 1px 3px 1px rgba(60, 64, 67, 0.15);\n",
              "      fill: #174EA6;\n",
              "    }\n",
              "\n",
              "    .colab-df-buttons div {\n",
              "      margin-bottom: 4px;\n",
              "    }\n",
              "\n",
              "    [theme=dark] .colab-df-convert {\n",
              "      background-color: #3B4455;\n",
              "      fill: #D2E3FC;\n",
              "    }\n",
              "\n",
              "    [theme=dark] .colab-df-convert:hover {\n",
              "      background-color: #434B5C;\n",
              "      box-shadow: 0px 1px 3px 1px rgba(0, 0, 0, 0.15);\n",
              "      filter: drop-shadow(0px 1px 2px rgba(0, 0, 0, 0.3));\n",
              "      fill: #FFFFFF;\n",
              "    }\n",
              "  </style>\n",
              "\n",
              "    <script>\n",
              "      const buttonEl =\n",
              "        document.querySelector('#df-a7f7c394-9df2-4a35-bfea-6e678cd71f18 button.colab-df-convert');\n",
              "      buttonEl.style.display =\n",
              "        google.colab.kernel.accessAllowed ? 'block' : 'none';\n",
              "\n",
              "      async function convertToInteractive(key) {\n",
              "        const element = document.querySelector('#df-a7f7c394-9df2-4a35-bfea-6e678cd71f18');\n",
              "        const dataTable =\n",
              "          await google.colab.kernel.invokeFunction('convertToInteractive',\n",
              "                                                    [key], {});\n",
              "        if (!dataTable) return;\n",
              "\n",
              "        const docLinkHtml = 'Like what you see? Visit the ' +\n",
              "          '<a target=\"_blank\" href=https://colab.research.google.com/notebooks/data_table.ipynb>data table notebook</a>'\n",
              "          + ' to learn more about interactive tables.';\n",
              "        element.innerHTML = '';\n",
              "        dataTable['output_type'] = 'display_data';\n",
              "        await google.colab.output.renderOutput(dataTable, element);\n",
              "        const docLink = document.createElement('div');\n",
              "        docLink.innerHTML = docLinkHtml;\n",
              "        element.appendChild(docLink);\n",
              "      }\n",
              "    </script>\n",
              "  </div>\n",
              "\n",
              "\n",
              "<div id=\"df-79ceeed2-2971-46fe-adf3-9b979c632fa7\">\n",
              "  <button class=\"colab-df-quickchart\" onclick=\"quickchart('df-79ceeed2-2971-46fe-adf3-9b979c632fa7')\"\n",
              "            title=\"Suggest charts\"\n",
              "            style=\"display:none;\">\n",
              "\n",
              "<svg xmlns=\"http://www.w3.org/2000/svg\" height=\"24px\"viewBox=\"0 0 24 24\"\n",
              "     width=\"24px\">\n",
              "    <g>\n",
              "        <path d=\"M19 3H5c-1.1 0-2 .9-2 2v14c0 1.1.9 2 2 2h14c1.1 0 2-.9 2-2V5c0-1.1-.9-2-2-2zM9 17H7v-7h2v7zm4 0h-2V7h2v10zm4 0h-2v-4h2v4z\"/>\n",
              "    </g>\n",
              "</svg>\n",
              "  </button>\n",
              "\n",
              "<style>\n",
              "  .colab-df-quickchart {\n",
              "      --bg-color: #E8F0FE;\n",
              "      --fill-color: #1967D2;\n",
              "      --hover-bg-color: #E2EBFA;\n",
              "      --hover-fill-color: #174EA6;\n",
              "      --disabled-fill-color: #AAA;\n",
              "      --disabled-bg-color: #DDD;\n",
              "  }\n",
              "\n",
              "  [theme=dark] .colab-df-quickchart {\n",
              "      --bg-color: #3B4455;\n",
              "      --fill-color: #D2E3FC;\n",
              "      --hover-bg-color: #434B5C;\n",
              "      --hover-fill-color: #FFFFFF;\n",
              "      --disabled-bg-color: #3B4455;\n",
              "      --disabled-fill-color: #666;\n",
              "  }\n",
              "\n",
              "  .colab-df-quickchart {\n",
              "    background-color: var(--bg-color);\n",
              "    border: none;\n",
              "    border-radius: 50%;\n",
              "    cursor: pointer;\n",
              "    display: none;\n",
              "    fill: var(--fill-color);\n",
              "    height: 32px;\n",
              "    padding: 0;\n",
              "    width: 32px;\n",
              "  }\n",
              "\n",
              "  .colab-df-quickchart:hover {\n",
              "    background-color: var(--hover-bg-color);\n",
              "    box-shadow: 0 1px 2px rgba(60, 64, 67, 0.3), 0 1px 3px 1px rgba(60, 64, 67, 0.15);\n",
              "    fill: var(--button-hover-fill-color);\n",
              "  }\n",
              "\n",
              "  .colab-df-quickchart-complete:disabled,\n",
              "  .colab-df-quickchart-complete:disabled:hover {\n",
              "    background-color: var(--disabled-bg-color);\n",
              "    fill: var(--disabled-fill-color);\n",
              "    box-shadow: none;\n",
              "  }\n",
              "\n",
              "  .colab-df-spinner {\n",
              "    border: 2px solid var(--fill-color);\n",
              "    border-color: transparent;\n",
              "    border-bottom-color: var(--fill-color);\n",
              "    animation:\n",
              "      spin 1s steps(1) infinite;\n",
              "  }\n",
              "\n",
              "  @keyframes spin {\n",
              "    0% {\n",
              "      border-color: transparent;\n",
              "      border-bottom-color: var(--fill-color);\n",
              "      border-left-color: var(--fill-color);\n",
              "    }\n",
              "    20% {\n",
              "      border-color: transparent;\n",
              "      border-left-color: var(--fill-color);\n",
              "      border-top-color: var(--fill-color);\n",
              "    }\n",
              "    30% {\n",
              "      border-color: transparent;\n",
              "      border-left-color: var(--fill-color);\n",
              "      border-top-color: var(--fill-color);\n",
              "      border-right-color: var(--fill-color);\n",
              "    }\n",
              "    40% {\n",
              "      border-color: transparent;\n",
              "      border-right-color: var(--fill-color);\n",
              "      border-top-color: var(--fill-color);\n",
              "    }\n",
              "    60% {\n",
              "      border-color: transparent;\n",
              "      border-right-color: var(--fill-color);\n",
              "    }\n",
              "    80% {\n",
              "      border-color: transparent;\n",
              "      border-right-color: var(--fill-color);\n",
              "      border-bottom-color: var(--fill-color);\n",
              "    }\n",
              "    90% {\n",
              "      border-color: transparent;\n",
              "      border-bottom-color: var(--fill-color);\n",
              "    }\n",
              "  }\n",
              "</style>\n",
              "\n",
              "  <script>\n",
              "    async function quickchart(key) {\n",
              "      const quickchartButtonEl =\n",
              "        document.querySelector('#' + key + ' button');\n",
              "      quickchartButtonEl.disabled = true;  // To prevent multiple clicks.\n",
              "      quickchartButtonEl.classList.add('colab-df-spinner');\n",
              "      try {\n",
              "        const charts = await google.colab.kernel.invokeFunction(\n",
              "            'suggestCharts', [key], {});\n",
              "      } catch (error) {\n",
              "        console.error('Error during call to suggestCharts:', error);\n",
              "      }\n",
              "      quickchartButtonEl.classList.remove('colab-df-spinner');\n",
              "      quickchartButtonEl.classList.add('colab-df-quickchart-complete');\n",
              "    }\n",
              "    (() => {\n",
              "      let quickchartButtonEl =\n",
              "        document.querySelector('#df-79ceeed2-2971-46fe-adf3-9b979c632fa7 button');\n",
              "      quickchartButtonEl.style.display =\n",
              "        google.colab.kernel.accessAllowed ? 'block' : 'none';\n",
              "    })();\n",
              "  </script>\n",
              "</div>\n",
              "\n",
              "  <div id=\"id_32e210b2-151a-49ad-8197-4f7b522e1caa\">\n",
              "    <style>\n",
              "      .colab-df-generate {\n",
              "        background-color: #E8F0FE;\n",
              "        border: none;\n",
              "        border-radius: 50%;\n",
              "        cursor: pointer;\n",
              "        display: none;\n",
              "        fill: #1967D2;\n",
              "        height: 32px;\n",
              "        padding: 0 0 0 0;\n",
              "        width: 32px;\n",
              "      }\n",
              "\n",
              "      .colab-df-generate:hover {\n",
              "        background-color: #E2EBFA;\n",
              "        box-shadow: 0px 1px 2px rgba(60, 64, 67, 0.3), 0px 1px 3px 1px rgba(60, 64, 67, 0.15);\n",
              "        fill: #174EA6;\n",
              "      }\n",
              "\n",
              "      [theme=dark] .colab-df-generate {\n",
              "        background-color: #3B4455;\n",
              "        fill: #D2E3FC;\n",
              "      }\n",
              "\n",
              "      [theme=dark] .colab-df-generate:hover {\n",
              "        background-color: #434B5C;\n",
              "        box-shadow: 0px 1px 3px 1px rgba(0, 0, 0, 0.15);\n",
              "        filter: drop-shadow(0px 1px 2px rgba(0, 0, 0, 0.3));\n",
              "        fill: #FFFFFF;\n",
              "      }\n",
              "    </style>\n",
              "    <button class=\"colab-df-generate\" onclick=\"generateWithVariable('df')\"\n",
              "            title=\"Generate code using this dataframe.\"\n",
              "            style=\"display:none;\">\n",
              "\n",
              "  <svg xmlns=\"http://www.w3.org/2000/svg\" height=\"24px\"viewBox=\"0 0 24 24\"\n",
              "       width=\"24px\">\n",
              "    <path d=\"M7,19H8.4L18.45,9,17,7.55,7,17.6ZM5,21V16.75L18.45,3.32a2,2,0,0,1,2.83,0l1.4,1.43a1.91,1.91,0,0,1,.58,1.4,1.91,1.91,0,0,1-.58,1.4L9.25,21ZM18.45,9,17,7.55Zm-12,3A5.31,5.31,0,0,0,4.9,8.1,5.31,5.31,0,0,0,1,6.5,5.31,5.31,0,0,0,4.9,4.9,5.31,5.31,0,0,0,6.5,1,5.31,5.31,0,0,0,8.1,4.9,5.31,5.31,0,0,0,12,6.5,5.46,5.46,0,0,0,6.5,12Z\"/>\n",
              "  </svg>\n",
              "    </button>\n",
              "    <script>\n",
              "      (() => {\n",
              "      const buttonEl =\n",
              "        document.querySelector('#id_32e210b2-151a-49ad-8197-4f7b522e1caa button.colab-df-generate');\n",
              "      buttonEl.style.display =\n",
              "        google.colab.kernel.accessAllowed ? 'block' : 'none';\n",
              "\n",
              "      buttonEl.onclick = () => {\n",
              "        google.colab.notebook.generateWithVariable('df');\n",
              "      }\n",
              "      })();\n",
              "    </script>\n",
              "  </div>\n",
              "\n",
              "    </div>\n",
              "  </div>\n"
            ],
            "application/vnd.google.colaboratory.intrinsic+json": {
              "type": "dataframe",
              "variable_name": "df",
              "summary": "{\n  \"name\": \"df\",\n  \"rows\": 13200,\n  \"fields\": [\n    {\n      \"column\": \"Temperature\",\n      \"properties\": {\n        \"dtype\": \"number\",\n        \"std\": 17.386326582360788,\n        \"min\": -25.0,\n        \"max\": 109.0,\n        \"num_unique_values\": 126,\n        \"samples\": [\n          80.0,\n          4.0,\n          88.0\n        ],\n        \"semantic_type\": \"\",\n        \"description\": \"\"\n      }\n    },\n    {\n      \"column\": \"Humidity\",\n      \"properties\": {\n        \"dtype\": \"number\",\n        \"std\": 20,\n        \"min\": 20,\n        \"max\": 109,\n        \"num_unique_values\": 90,\n        \"samples\": [\n          84,\n          72,\n          38\n        ],\n        \"semantic_type\": \"\",\n        \"description\": \"\"\n      }\n    },\n    {\n      \"column\": \"Wind Speed\",\n      \"properties\": {\n        \"dtype\": \"number\",\n        \"std\": 6.908704141531295,\n        \"min\": 0.0,\n        \"max\": 48.5,\n        \"num_unique_values\": 97,\n        \"samples\": [\n          26.5,\n          14.5,\n          47.5\n        ],\n        \"semantic_type\": \"\",\n        \"description\": \"\"\n      }\n    },\n    {\n      \"column\": \"Precipitation (%)\",\n      \"properties\": {\n        \"dtype\": \"number\",\n        \"std\": 31.946540769981375,\n        \"min\": 0.0,\n        \"max\": 109.0,\n        \"num_unique_values\": 110,\n        \"samples\": [\n          51.0,\n          8.0,\n          26.0\n        ],\n        \"semantic_type\": \"\",\n        \"description\": \"\"\n      }\n    },\n    {\n      \"column\": \"Cloud Cover\",\n      \"properties\": {\n        \"dtype\": \"category\",\n        \"num_unique_values\": 4,\n        \"samples\": [\n          \"clear\",\n          \"cloudy\",\n          \"partly cloudy\"\n        ],\n        \"semantic_type\": \"\",\n        \"description\": \"\"\n      }\n    },\n    {\n      \"column\": \"Atmospheric Pressure\",\n      \"properties\": {\n        \"dtype\": \"number\",\n        \"std\": 37.199588697503295,\n        \"min\": 800.12,\n        \"max\": 1199.21,\n        \"num_unique_values\": 5456,\n        \"samples\": [\n          939.13,\n          985.08,\n          987.72\n        ],\n        \"semantic_type\": \"\",\n        \"description\": \"\"\n      }\n    },\n    {\n      \"column\": \"UV Index\",\n      \"properties\": {\n        \"dtype\": \"number\",\n        \"std\": 3,\n        \"min\": 0,\n        \"max\": 14,\n        \"num_unique_values\": 15,\n        \"samples\": [\n          4,\n          10,\n          2\n        ],\n        \"semantic_type\": \"\",\n        \"description\": \"\"\n      }\n    },\n    {\n      \"column\": \"Season\",\n      \"properties\": {\n        \"dtype\": \"category\",\n        \"num_unique_values\": 4,\n        \"samples\": [\n          \"Spring\",\n          \"Autumn\",\n          \"Winter\"\n        ],\n        \"semantic_type\": \"\",\n        \"description\": \"\"\n      }\n    },\n    {\n      \"column\": \"Visibility (km)\",\n      \"properties\": {\n        \"dtype\": \"number\",\n        \"std\": 3.371498910353949,\n        \"min\": 0.0,\n        \"max\": 20.0,\n        \"num_unique_values\": 41,\n        \"samples\": [\n          13.0,\n          9.5,\n          1.5\n        ],\n        \"semantic_type\": \"\",\n        \"description\": \"\"\n      }\n    },\n    {\n      \"column\": \"Location\",\n      \"properties\": {\n        \"dtype\": \"category\",\n        \"num_unique_values\": 3,\n        \"samples\": [\n          \"inland\",\n          \"mountain\",\n          \"coastal\"\n        ],\n        \"semantic_type\": \"\",\n        \"description\": \"\"\n      }\n    },\n    {\n      \"column\": \"Weather Type\",\n      \"properties\": {\n        \"dtype\": \"category\",\n        \"num_unique_values\": 4,\n        \"samples\": [\n          \"Cloudy\",\n          \"Snowy\",\n          \"Rainy\"\n        ],\n        \"semantic_type\": \"\",\n        \"description\": \"\"\n      }\n    }\n  ]\n}"
            }
          },
          "metadata": {},
          "execution_count": 4
        }
      ]
    },
    {
      "cell_type": "markdown",
      "source": [
        "nossa coluna alvo para a analise sera a 'Weather Type'\n"
      ],
      "metadata": {
        "id": "RuZzYcp6rOge"
      }
    },
    {
      "cell_type": "code",
      "source": [
        "df.isnull().sum()"
      ],
      "metadata": {
        "colab": {
          "base_uri": "https://localhost:8080/"
        },
        "id": "mywGItA7rSUf",
        "outputId": "5367bf39-0afe-473f-fd8c-b38d43e0e388"
      },
      "execution_count": 5,
      "outputs": [
        {
          "output_type": "execute_result",
          "data": {
            "text/plain": [
              "Temperature             0\n",
              "Humidity                0\n",
              "Wind Speed              0\n",
              "Precipitation (%)       0\n",
              "Cloud Cover             0\n",
              "Atmospheric Pressure    0\n",
              "UV Index                0\n",
              "Season                  0\n",
              "Visibility (km)         0\n",
              "Location                0\n",
              "Weather Type            0\n",
              "dtype: int64"
            ]
          },
          "metadata": {},
          "execution_count": 5
        }
      ]
    },
    {
      "cell_type": "code",
      "source": [
        "df.info()"
      ],
      "metadata": {
        "colab": {
          "base_uri": "https://localhost:8080/"
        },
        "id": "fwE5jdhJrXEo",
        "outputId": "9a93c8fa-d265-4b9f-d7fe-5b22293486cd"
      },
      "execution_count": 6,
      "outputs": [
        {
          "output_type": "stream",
          "name": "stdout",
          "text": [
            "<class 'pandas.core.frame.DataFrame'>\n",
            "RangeIndex: 13200 entries, 0 to 13199\n",
            "Data columns (total 11 columns):\n",
            " #   Column                Non-Null Count  Dtype  \n",
            "---  ------                --------------  -----  \n",
            " 0   Temperature           13200 non-null  float64\n",
            " 1   Humidity              13200 non-null  int64  \n",
            " 2   Wind Speed            13200 non-null  float64\n",
            " 3   Precipitation (%)     13200 non-null  float64\n",
            " 4   Cloud Cover           13200 non-null  object \n",
            " 5   Atmospheric Pressure  13200 non-null  float64\n",
            " 6   UV Index              13200 non-null  int64  \n",
            " 7   Season                13200 non-null  object \n",
            " 8   Visibility (km)       13200 non-null  float64\n",
            " 9   Location              13200 non-null  object \n",
            " 10  Weather Type          13200 non-null  object \n",
            "dtypes: float64(5), int64(2), object(4)\n",
            "memory usage: 1.1+ MB\n"
          ]
        }
      ]
    },
    {
      "cell_type": "code",
      "source": [
        "df['Season'].unique()"
      ],
      "metadata": {
        "colab": {
          "base_uri": "https://localhost:8080/"
        },
        "id": "35qFBKwFroyD",
        "outputId": "7fd217d0-fe7b-4788-b2f9-88e97eb04d74"
      },
      "execution_count": 8,
      "outputs": [
        {
          "output_type": "execute_result",
          "data": {
            "text/plain": [
              "array(['Winter', 'Spring', 'Summer', 'Autumn'], dtype=object)"
            ]
          },
          "metadata": {},
          "execution_count": 8
        }
      ]
    },
    {
      "cell_type": "code",
      "source": [
        "df['Location'].unique()"
      ],
      "metadata": {
        "colab": {
          "base_uri": "https://localhost:8080/"
        },
        "id": "_u8XPQaur0ev",
        "outputId": "b80d9abf-b68c-4563-d757-fe5fbcbbe033"
      },
      "execution_count": 14,
      "outputs": [
        {
          "output_type": "execute_result",
          "data": {
            "text/plain": [
              "array(['inland', 'mountain', 'coastal'], dtype=object)"
            ]
          },
          "metadata": {},
          "execution_count": 14
        }
      ]
    },
    {
      "cell_type": "code",
      "source": [
        "df['Weather Type'].unique()"
      ],
      "metadata": {
        "colab": {
          "base_uri": "https://localhost:8080/"
        },
        "id": "60ERGgcou6SS",
        "outputId": "01405674-b154-47da-b311-938c5f7679f0"
      },
      "execution_count": 16,
      "outputs": [
        {
          "output_type": "execute_result",
          "data": {
            "text/plain": [
              "array(['Rainy', 'Cloudy', 'Sunny', 'Snowy'], dtype=object)"
            ]
          },
          "metadata": {},
          "execution_count": 16
        }
      ]
    },
    {
      "cell_type": "code",
      "source": [
        "df['Cloud Cover'].unique()"
      ],
      "metadata": {
        "colab": {
          "base_uri": "https://localhost:8080/"
        },
        "id": "TfQ2YyGpu83B",
        "outputId": "d48a70a4-88d9-4239-d3fa-73b39caeccbd"
      },
      "execution_count": 19,
      "outputs": [
        {
          "output_type": "execute_result",
          "data": {
            "text/plain": [
              "array(['partly cloudy', 'clear', 'overcast', 'cloudy'], dtype=object)"
            ]
          },
          "metadata": {},
          "execution_count": 19
        }
      ]
    },
    {
      "cell_type": "markdown",
      "source": [
        "#Label Encoder"
      ],
      "metadata": {
        "id": "5vDGUj4ZvG1V"
      }
    },
    {
      "cell_type": "markdown",
      "source": [
        "Usaremos o recurso da biblioteca Sklearn, o label encoder, para transformar as variaveis categoricas em numericas inteiras."
      ],
      "metadata": {
        "id": "zPPoDyg2vJnR"
      }
    },
    {
      "cell_type": "code",
      "source": [
        "#importando label encoder\n",
        "from sklearn.preprocessing import LabelEncoder"
      ],
      "metadata": {
        "id": "jJN4KFmRvWqw"
      },
      "execution_count": 22,
      "outputs": []
    },
    {
      "cell_type": "code",
      "source": [
        "#Label encoder nas colunas desejadas(Season, Location, Weather Type, Cloud Cover)\n",
        "df['Season'] = LabelEncoder().fit_transform(df['Season'])\n",
        "df['Location'] = LabelEncoder().fit_transform(df['Location'])\n",
        "df['Weather Type'] = LabelEncoder().fit_transform(df['Weather Type'])\n",
        "df['Cloud Cover'] = LabelEncoder().fit_transform(df['Cloud Cover'])"
      ],
      "metadata": {
        "id": "iueakuNHvmba"
      },
      "execution_count": 26,
      "outputs": []
    },
    {
      "cell_type": "code",
      "source": [
        "df"
      ],
      "metadata": {
        "colab": {
          "base_uri": "https://localhost:8080/",
          "height": 441
        },
        "id": "wSwQEk-AxV0R",
        "outputId": "3689d9b7-d2bc-4c2b-9bad-f04aaaa97be2"
      },
      "execution_count": 28,
      "outputs": [
        {
          "output_type": "execute_result",
          "data": {
            "text/plain": [
              "       Temperature  Humidity  Wind Speed  Precipitation (%)  Cloud Cover  \\\n",
              "0             14.0        73         9.5               82.0            3   \n",
              "1             39.0        96         8.5               71.0            3   \n",
              "2             30.0        64         7.0               16.0            0   \n",
              "3             38.0        83         1.5               82.0            0   \n",
              "4             27.0        74        17.0               66.0            2   \n",
              "...            ...       ...         ...                ...          ...   \n",
              "13195         10.0        74        14.5               71.0            2   \n",
              "13196         -1.0        76         3.5               23.0            1   \n",
              "13197         30.0        77         5.5               28.0            2   \n",
              "13198          3.0        76        10.0               94.0            2   \n",
              "13199         -5.0        38         0.0               92.0            2   \n",
              "\n",
              "       Atmospheric Pressure  UV Index  Season  Visibility (km)  Location  \\\n",
              "0                   1010.82         2       3              3.5         1   \n",
              "1                   1011.43         7       1             10.0         1   \n",
              "2                   1018.72         5       1              5.5         2   \n",
              "3                   1026.25         7       1              1.0         0   \n",
              "4                    990.67         1       3              2.5         2   \n",
              "...                     ...       ...     ...              ...       ...   \n",
              "13195               1003.15         1       2              1.0         2   \n",
              "13196               1067.23         1       3              6.0         0   \n",
              "13197               1012.69         3       0              9.0         0   \n",
              "13198                984.27         0       3              2.0         1   \n",
              "13199               1015.37         5       0             10.0         2   \n",
              "\n",
              "       Weather Type  \n",
              "0                 1  \n",
              "1                 0  \n",
              "2                 3  \n",
              "3                 3  \n",
              "4                 1  \n",
              "...             ...  \n",
              "13195             1  \n",
              "13196             2  \n",
              "13197             0  \n",
              "13198             2  \n",
              "13199             1  \n",
              "\n",
              "[13200 rows x 11 columns]"
            ],
            "text/html": [
              "\n",
              "  <div id=\"df-093164f5-f215-4df4-b19d-e342335acc37\" class=\"colab-df-container\">\n",
              "    <div>\n",
              "<style scoped>\n",
              "    .dataframe tbody tr th:only-of-type {\n",
              "        vertical-align: middle;\n",
              "    }\n",
              "\n",
              "    .dataframe tbody tr th {\n",
              "        vertical-align: top;\n",
              "    }\n",
              "\n",
              "    .dataframe thead th {\n",
              "        text-align: right;\n",
              "    }\n",
              "</style>\n",
              "<table border=\"1\" class=\"dataframe\">\n",
              "  <thead>\n",
              "    <tr style=\"text-align: right;\">\n",
              "      <th></th>\n",
              "      <th>Temperature</th>\n",
              "      <th>Humidity</th>\n",
              "      <th>Wind Speed</th>\n",
              "      <th>Precipitation (%)</th>\n",
              "      <th>Cloud Cover</th>\n",
              "      <th>Atmospheric Pressure</th>\n",
              "      <th>UV Index</th>\n",
              "      <th>Season</th>\n",
              "      <th>Visibility (km)</th>\n",
              "      <th>Location</th>\n",
              "      <th>Weather Type</th>\n",
              "    </tr>\n",
              "  </thead>\n",
              "  <tbody>\n",
              "    <tr>\n",
              "      <th>0</th>\n",
              "      <td>14.0</td>\n",
              "      <td>73</td>\n",
              "      <td>9.5</td>\n",
              "      <td>82.0</td>\n",
              "      <td>3</td>\n",
              "      <td>1010.82</td>\n",
              "      <td>2</td>\n",
              "      <td>3</td>\n",
              "      <td>3.5</td>\n",
              "      <td>1</td>\n",
              "      <td>1</td>\n",
              "    </tr>\n",
              "    <tr>\n",
              "      <th>1</th>\n",
              "      <td>39.0</td>\n",
              "      <td>96</td>\n",
              "      <td>8.5</td>\n",
              "      <td>71.0</td>\n",
              "      <td>3</td>\n",
              "      <td>1011.43</td>\n",
              "      <td>7</td>\n",
              "      <td>1</td>\n",
              "      <td>10.0</td>\n",
              "      <td>1</td>\n",
              "      <td>0</td>\n",
              "    </tr>\n",
              "    <tr>\n",
              "      <th>2</th>\n",
              "      <td>30.0</td>\n",
              "      <td>64</td>\n",
              "      <td>7.0</td>\n",
              "      <td>16.0</td>\n",
              "      <td>0</td>\n",
              "      <td>1018.72</td>\n",
              "      <td>5</td>\n",
              "      <td>1</td>\n",
              "      <td>5.5</td>\n",
              "      <td>2</td>\n",
              "      <td>3</td>\n",
              "    </tr>\n",
              "    <tr>\n",
              "      <th>3</th>\n",
              "      <td>38.0</td>\n",
              "      <td>83</td>\n",
              "      <td>1.5</td>\n",
              "      <td>82.0</td>\n",
              "      <td>0</td>\n",
              "      <td>1026.25</td>\n",
              "      <td>7</td>\n",
              "      <td>1</td>\n",
              "      <td>1.0</td>\n",
              "      <td>0</td>\n",
              "      <td>3</td>\n",
              "    </tr>\n",
              "    <tr>\n",
              "      <th>4</th>\n",
              "      <td>27.0</td>\n",
              "      <td>74</td>\n",
              "      <td>17.0</td>\n",
              "      <td>66.0</td>\n",
              "      <td>2</td>\n",
              "      <td>990.67</td>\n",
              "      <td>1</td>\n",
              "      <td>3</td>\n",
              "      <td>2.5</td>\n",
              "      <td>2</td>\n",
              "      <td>1</td>\n",
              "    </tr>\n",
              "    <tr>\n",
              "      <th>...</th>\n",
              "      <td>...</td>\n",
              "      <td>...</td>\n",
              "      <td>...</td>\n",
              "      <td>...</td>\n",
              "      <td>...</td>\n",
              "      <td>...</td>\n",
              "      <td>...</td>\n",
              "      <td>...</td>\n",
              "      <td>...</td>\n",
              "      <td>...</td>\n",
              "      <td>...</td>\n",
              "    </tr>\n",
              "    <tr>\n",
              "      <th>13195</th>\n",
              "      <td>10.0</td>\n",
              "      <td>74</td>\n",
              "      <td>14.5</td>\n",
              "      <td>71.0</td>\n",
              "      <td>2</td>\n",
              "      <td>1003.15</td>\n",
              "      <td>1</td>\n",
              "      <td>2</td>\n",
              "      <td>1.0</td>\n",
              "      <td>2</td>\n",
              "      <td>1</td>\n",
              "    </tr>\n",
              "    <tr>\n",
              "      <th>13196</th>\n",
              "      <td>-1.0</td>\n",
              "      <td>76</td>\n",
              "      <td>3.5</td>\n",
              "      <td>23.0</td>\n",
              "      <td>1</td>\n",
              "      <td>1067.23</td>\n",
              "      <td>1</td>\n",
              "      <td>3</td>\n",
              "      <td>6.0</td>\n",
              "      <td>0</td>\n",
              "      <td>2</td>\n",
              "    </tr>\n",
              "    <tr>\n",
              "      <th>13197</th>\n",
              "      <td>30.0</td>\n",
              "      <td>77</td>\n",
              "      <td>5.5</td>\n",
              "      <td>28.0</td>\n",
              "      <td>2</td>\n",
              "      <td>1012.69</td>\n",
              "      <td>3</td>\n",
              "      <td>0</td>\n",
              "      <td>9.0</td>\n",
              "      <td>0</td>\n",
              "      <td>0</td>\n",
              "    </tr>\n",
              "    <tr>\n",
              "      <th>13198</th>\n",
              "      <td>3.0</td>\n",
              "      <td>76</td>\n",
              "      <td>10.0</td>\n",
              "      <td>94.0</td>\n",
              "      <td>2</td>\n",
              "      <td>984.27</td>\n",
              "      <td>0</td>\n",
              "      <td>3</td>\n",
              "      <td>2.0</td>\n",
              "      <td>1</td>\n",
              "      <td>2</td>\n",
              "    </tr>\n",
              "    <tr>\n",
              "      <th>13199</th>\n",
              "      <td>-5.0</td>\n",
              "      <td>38</td>\n",
              "      <td>0.0</td>\n",
              "      <td>92.0</td>\n",
              "      <td>2</td>\n",
              "      <td>1015.37</td>\n",
              "      <td>5</td>\n",
              "      <td>0</td>\n",
              "      <td>10.0</td>\n",
              "      <td>2</td>\n",
              "      <td>1</td>\n",
              "    </tr>\n",
              "  </tbody>\n",
              "</table>\n",
              "<p>13200 rows × 11 columns</p>\n",
              "</div>\n",
              "    <div class=\"colab-df-buttons\">\n",
              "\n",
              "  <div class=\"colab-df-container\">\n",
              "    <button class=\"colab-df-convert\" onclick=\"convertToInteractive('df-093164f5-f215-4df4-b19d-e342335acc37')\"\n",
              "            title=\"Convert this dataframe to an interactive table.\"\n",
              "            style=\"display:none;\">\n",
              "\n",
              "  <svg xmlns=\"http://www.w3.org/2000/svg\" height=\"24px\" viewBox=\"0 -960 960 960\">\n",
              "    <path d=\"M120-120v-720h720v720H120Zm60-500h600v-160H180v160Zm220 220h160v-160H400v160Zm0 220h160v-160H400v160ZM180-400h160v-160H180v160Zm440 0h160v-160H620v160ZM180-180h160v-160H180v160Zm440 0h160v-160H620v160Z\"/>\n",
              "  </svg>\n",
              "    </button>\n",
              "\n",
              "  <style>\n",
              "    .colab-df-container {\n",
              "      display:flex;\n",
              "      gap: 12px;\n",
              "    }\n",
              "\n",
              "    .colab-df-convert {\n",
              "      background-color: #E8F0FE;\n",
              "      border: none;\n",
              "      border-radius: 50%;\n",
              "      cursor: pointer;\n",
              "      display: none;\n",
              "      fill: #1967D2;\n",
              "      height: 32px;\n",
              "      padding: 0 0 0 0;\n",
              "      width: 32px;\n",
              "    }\n",
              "\n",
              "    .colab-df-convert:hover {\n",
              "      background-color: #E2EBFA;\n",
              "      box-shadow: 0px 1px 2px rgba(60, 64, 67, 0.3), 0px 1px 3px 1px rgba(60, 64, 67, 0.15);\n",
              "      fill: #174EA6;\n",
              "    }\n",
              "\n",
              "    .colab-df-buttons div {\n",
              "      margin-bottom: 4px;\n",
              "    }\n",
              "\n",
              "    [theme=dark] .colab-df-convert {\n",
              "      background-color: #3B4455;\n",
              "      fill: #D2E3FC;\n",
              "    }\n",
              "\n",
              "    [theme=dark] .colab-df-convert:hover {\n",
              "      background-color: #434B5C;\n",
              "      box-shadow: 0px 1px 3px 1px rgba(0, 0, 0, 0.15);\n",
              "      filter: drop-shadow(0px 1px 2px rgba(0, 0, 0, 0.3));\n",
              "      fill: #FFFFFF;\n",
              "    }\n",
              "  </style>\n",
              "\n",
              "    <script>\n",
              "      const buttonEl =\n",
              "        document.querySelector('#df-093164f5-f215-4df4-b19d-e342335acc37 button.colab-df-convert');\n",
              "      buttonEl.style.display =\n",
              "        google.colab.kernel.accessAllowed ? 'block' : 'none';\n",
              "\n",
              "      async function convertToInteractive(key) {\n",
              "        const element = document.querySelector('#df-093164f5-f215-4df4-b19d-e342335acc37');\n",
              "        const dataTable =\n",
              "          await google.colab.kernel.invokeFunction('convertToInteractive',\n",
              "                                                    [key], {});\n",
              "        if (!dataTable) return;\n",
              "\n",
              "        const docLinkHtml = 'Like what you see? Visit the ' +\n",
              "          '<a target=\"_blank\" href=https://colab.research.google.com/notebooks/data_table.ipynb>data table notebook</a>'\n",
              "          + ' to learn more about interactive tables.';\n",
              "        element.innerHTML = '';\n",
              "        dataTable['output_type'] = 'display_data';\n",
              "        await google.colab.output.renderOutput(dataTable, element);\n",
              "        const docLink = document.createElement('div');\n",
              "        docLink.innerHTML = docLinkHtml;\n",
              "        element.appendChild(docLink);\n",
              "      }\n",
              "    </script>\n",
              "  </div>\n",
              "\n",
              "\n",
              "<div id=\"df-87df3234-5df9-4f33-b8b3-b1070326d50a\">\n",
              "  <button class=\"colab-df-quickchart\" onclick=\"quickchart('df-87df3234-5df9-4f33-b8b3-b1070326d50a')\"\n",
              "            title=\"Suggest charts\"\n",
              "            style=\"display:none;\">\n",
              "\n",
              "<svg xmlns=\"http://www.w3.org/2000/svg\" height=\"24px\"viewBox=\"0 0 24 24\"\n",
              "     width=\"24px\">\n",
              "    <g>\n",
              "        <path d=\"M19 3H5c-1.1 0-2 .9-2 2v14c0 1.1.9 2 2 2h14c1.1 0 2-.9 2-2V5c0-1.1-.9-2-2-2zM9 17H7v-7h2v7zm4 0h-2V7h2v10zm4 0h-2v-4h2v4z\"/>\n",
              "    </g>\n",
              "</svg>\n",
              "  </button>\n",
              "\n",
              "<style>\n",
              "  .colab-df-quickchart {\n",
              "      --bg-color: #E8F0FE;\n",
              "      --fill-color: #1967D2;\n",
              "      --hover-bg-color: #E2EBFA;\n",
              "      --hover-fill-color: #174EA6;\n",
              "      --disabled-fill-color: #AAA;\n",
              "      --disabled-bg-color: #DDD;\n",
              "  }\n",
              "\n",
              "  [theme=dark] .colab-df-quickchart {\n",
              "      --bg-color: #3B4455;\n",
              "      --fill-color: #D2E3FC;\n",
              "      --hover-bg-color: #434B5C;\n",
              "      --hover-fill-color: #FFFFFF;\n",
              "      --disabled-bg-color: #3B4455;\n",
              "      --disabled-fill-color: #666;\n",
              "  }\n",
              "\n",
              "  .colab-df-quickchart {\n",
              "    background-color: var(--bg-color);\n",
              "    border: none;\n",
              "    border-radius: 50%;\n",
              "    cursor: pointer;\n",
              "    display: none;\n",
              "    fill: var(--fill-color);\n",
              "    height: 32px;\n",
              "    padding: 0;\n",
              "    width: 32px;\n",
              "  }\n",
              "\n",
              "  .colab-df-quickchart:hover {\n",
              "    background-color: var(--hover-bg-color);\n",
              "    box-shadow: 0 1px 2px rgba(60, 64, 67, 0.3), 0 1px 3px 1px rgba(60, 64, 67, 0.15);\n",
              "    fill: var(--button-hover-fill-color);\n",
              "  }\n",
              "\n",
              "  .colab-df-quickchart-complete:disabled,\n",
              "  .colab-df-quickchart-complete:disabled:hover {\n",
              "    background-color: var(--disabled-bg-color);\n",
              "    fill: var(--disabled-fill-color);\n",
              "    box-shadow: none;\n",
              "  }\n",
              "\n",
              "  .colab-df-spinner {\n",
              "    border: 2px solid var(--fill-color);\n",
              "    border-color: transparent;\n",
              "    border-bottom-color: var(--fill-color);\n",
              "    animation:\n",
              "      spin 1s steps(1) infinite;\n",
              "  }\n",
              "\n",
              "  @keyframes spin {\n",
              "    0% {\n",
              "      border-color: transparent;\n",
              "      border-bottom-color: var(--fill-color);\n",
              "      border-left-color: var(--fill-color);\n",
              "    }\n",
              "    20% {\n",
              "      border-color: transparent;\n",
              "      border-left-color: var(--fill-color);\n",
              "      border-top-color: var(--fill-color);\n",
              "    }\n",
              "    30% {\n",
              "      border-color: transparent;\n",
              "      border-left-color: var(--fill-color);\n",
              "      border-top-color: var(--fill-color);\n",
              "      border-right-color: var(--fill-color);\n",
              "    }\n",
              "    40% {\n",
              "      border-color: transparent;\n",
              "      border-right-color: var(--fill-color);\n",
              "      border-top-color: var(--fill-color);\n",
              "    }\n",
              "    60% {\n",
              "      border-color: transparent;\n",
              "      border-right-color: var(--fill-color);\n",
              "    }\n",
              "    80% {\n",
              "      border-color: transparent;\n",
              "      border-right-color: var(--fill-color);\n",
              "      border-bottom-color: var(--fill-color);\n",
              "    }\n",
              "    90% {\n",
              "      border-color: transparent;\n",
              "      border-bottom-color: var(--fill-color);\n",
              "    }\n",
              "  }\n",
              "</style>\n",
              "\n",
              "  <script>\n",
              "    async function quickchart(key) {\n",
              "      const quickchartButtonEl =\n",
              "        document.querySelector('#' + key + ' button');\n",
              "      quickchartButtonEl.disabled = true;  // To prevent multiple clicks.\n",
              "      quickchartButtonEl.classList.add('colab-df-spinner');\n",
              "      try {\n",
              "        const charts = await google.colab.kernel.invokeFunction(\n",
              "            'suggestCharts', [key], {});\n",
              "      } catch (error) {\n",
              "        console.error('Error during call to suggestCharts:', error);\n",
              "      }\n",
              "      quickchartButtonEl.classList.remove('colab-df-spinner');\n",
              "      quickchartButtonEl.classList.add('colab-df-quickchart-complete');\n",
              "    }\n",
              "    (() => {\n",
              "      let quickchartButtonEl =\n",
              "        document.querySelector('#df-87df3234-5df9-4f33-b8b3-b1070326d50a button');\n",
              "      quickchartButtonEl.style.display =\n",
              "        google.colab.kernel.accessAllowed ? 'block' : 'none';\n",
              "    })();\n",
              "  </script>\n",
              "</div>\n",
              "\n",
              "  <div id=\"id_43da0de7-900a-4389-a298-c51b9413e2a0\">\n",
              "    <style>\n",
              "      .colab-df-generate {\n",
              "        background-color: #E8F0FE;\n",
              "        border: none;\n",
              "        border-radius: 50%;\n",
              "        cursor: pointer;\n",
              "        display: none;\n",
              "        fill: #1967D2;\n",
              "        height: 32px;\n",
              "        padding: 0 0 0 0;\n",
              "        width: 32px;\n",
              "      }\n",
              "\n",
              "      .colab-df-generate:hover {\n",
              "        background-color: #E2EBFA;\n",
              "        box-shadow: 0px 1px 2px rgba(60, 64, 67, 0.3), 0px 1px 3px 1px rgba(60, 64, 67, 0.15);\n",
              "        fill: #174EA6;\n",
              "      }\n",
              "\n",
              "      [theme=dark] .colab-df-generate {\n",
              "        background-color: #3B4455;\n",
              "        fill: #D2E3FC;\n",
              "      }\n",
              "\n",
              "      [theme=dark] .colab-df-generate:hover {\n",
              "        background-color: #434B5C;\n",
              "        box-shadow: 0px 1px 3px 1px rgba(0, 0, 0, 0.15);\n",
              "        filter: drop-shadow(0px 1px 2px rgba(0, 0, 0, 0.3));\n",
              "        fill: #FFFFFF;\n",
              "      }\n",
              "    </style>\n",
              "    <button class=\"colab-df-generate\" onclick=\"generateWithVariable('df')\"\n",
              "            title=\"Generate code using this dataframe.\"\n",
              "            style=\"display:none;\">\n",
              "\n",
              "  <svg xmlns=\"http://www.w3.org/2000/svg\" height=\"24px\"viewBox=\"0 0 24 24\"\n",
              "       width=\"24px\">\n",
              "    <path d=\"M7,19H8.4L18.45,9,17,7.55,7,17.6ZM5,21V16.75L18.45,3.32a2,2,0,0,1,2.83,0l1.4,1.43a1.91,1.91,0,0,1,.58,1.4,1.91,1.91,0,0,1-.58,1.4L9.25,21ZM18.45,9,17,7.55Zm-12,3A5.31,5.31,0,0,0,4.9,8.1,5.31,5.31,0,0,0,1,6.5,5.31,5.31,0,0,0,4.9,4.9,5.31,5.31,0,0,0,6.5,1,5.31,5.31,0,0,0,8.1,4.9,5.31,5.31,0,0,0,12,6.5,5.46,5.46,0,0,0,6.5,12Z\"/>\n",
              "  </svg>\n",
              "    </button>\n",
              "    <script>\n",
              "      (() => {\n",
              "      const buttonEl =\n",
              "        document.querySelector('#id_43da0de7-900a-4389-a298-c51b9413e2a0 button.colab-df-generate');\n",
              "      buttonEl.style.display =\n",
              "        google.colab.kernel.accessAllowed ? 'block' : 'none';\n",
              "\n",
              "      buttonEl.onclick = () => {\n",
              "        google.colab.notebook.generateWithVariable('df');\n",
              "      }\n",
              "      })();\n",
              "    </script>\n",
              "  </div>\n",
              "\n",
              "    </div>\n",
              "  </div>\n"
            ],
            "application/vnd.google.colaboratory.intrinsic+json": {
              "type": "dataframe",
              "variable_name": "df",
              "summary": "{\n  \"name\": \"df\",\n  \"rows\": 13200,\n  \"fields\": [\n    {\n      \"column\": \"Temperature\",\n      \"properties\": {\n        \"dtype\": \"number\",\n        \"std\": 17.386326582360788,\n        \"min\": -25.0,\n        \"max\": 109.0,\n        \"num_unique_values\": 126,\n        \"samples\": [\n          80.0,\n          4.0,\n          88.0\n        ],\n        \"semantic_type\": \"\",\n        \"description\": \"\"\n      }\n    },\n    {\n      \"column\": \"Humidity\",\n      \"properties\": {\n        \"dtype\": \"number\",\n        \"std\": 20,\n        \"min\": 20,\n        \"max\": 109,\n        \"num_unique_values\": 90,\n        \"samples\": [\n          84,\n          72,\n          38\n        ],\n        \"semantic_type\": \"\",\n        \"description\": \"\"\n      }\n    },\n    {\n      \"column\": \"Wind Speed\",\n      \"properties\": {\n        \"dtype\": \"number\",\n        \"std\": 6.908704141531295,\n        \"min\": 0.0,\n        \"max\": 48.5,\n        \"num_unique_values\": 97,\n        \"samples\": [\n          26.5,\n          14.5,\n          47.5\n        ],\n        \"semantic_type\": \"\",\n        \"description\": \"\"\n      }\n    },\n    {\n      \"column\": \"Precipitation (%)\",\n      \"properties\": {\n        \"dtype\": \"number\",\n        \"std\": 31.946540769981375,\n        \"min\": 0.0,\n        \"max\": 109.0,\n        \"num_unique_values\": 110,\n        \"samples\": [\n          51.0,\n          8.0,\n          26.0\n        ],\n        \"semantic_type\": \"\",\n        \"description\": \"\"\n      }\n    },\n    {\n      \"column\": \"Cloud Cover\",\n      \"properties\": {\n        \"dtype\": \"number\",\n        \"std\": 1,\n        \"min\": 0,\n        \"max\": 3,\n        \"num_unique_values\": 4,\n        \"samples\": [\n          0,\n          1,\n          3\n        ],\n        \"semantic_type\": \"\",\n        \"description\": \"\"\n      }\n    },\n    {\n      \"column\": \"Atmospheric Pressure\",\n      \"properties\": {\n        \"dtype\": \"number\",\n        \"std\": 37.199588697503295,\n        \"min\": 800.12,\n        \"max\": 1199.21,\n        \"num_unique_values\": 5456,\n        \"samples\": [\n          939.13,\n          985.08,\n          987.72\n        ],\n        \"semantic_type\": \"\",\n        \"description\": \"\"\n      }\n    },\n    {\n      \"column\": \"UV Index\",\n      \"properties\": {\n        \"dtype\": \"number\",\n        \"std\": 3,\n        \"min\": 0,\n        \"max\": 14,\n        \"num_unique_values\": 15,\n        \"samples\": [\n          4,\n          10,\n          2\n        ],\n        \"semantic_type\": \"\",\n        \"description\": \"\"\n      }\n    },\n    {\n      \"column\": \"Season\",\n      \"properties\": {\n        \"dtype\": \"number\",\n        \"std\": 1,\n        \"min\": 0,\n        \"max\": 3,\n        \"num_unique_values\": 4,\n        \"samples\": [\n          1,\n          0,\n          3\n        ],\n        \"semantic_type\": \"\",\n        \"description\": \"\"\n      }\n    },\n    {\n      \"column\": \"Visibility (km)\",\n      \"properties\": {\n        \"dtype\": \"number\",\n        \"std\": 3.371498910353949,\n        \"min\": 0.0,\n        \"max\": 20.0,\n        \"num_unique_values\": 41,\n        \"samples\": [\n          13.0,\n          9.5,\n          1.5\n        ],\n        \"semantic_type\": \"\",\n        \"description\": \"\"\n      }\n    },\n    {\n      \"column\": \"Location\",\n      \"properties\": {\n        \"dtype\": \"number\",\n        \"std\": 0,\n        \"min\": 0,\n        \"max\": 2,\n        \"num_unique_values\": 3,\n        \"samples\": [\n          1,\n          2,\n          0\n        ],\n        \"semantic_type\": \"\",\n        \"description\": \"\"\n      }\n    },\n    {\n      \"column\": \"Weather Type\",\n      \"properties\": {\n        \"dtype\": \"number\",\n        \"std\": 1,\n        \"min\": 0,\n        \"max\": 3,\n        \"num_unique_values\": 4,\n        \"samples\": [\n          0,\n          2,\n          1\n        ],\n        \"semantic_type\": \"\",\n        \"description\": \"\"\n      }\n    }\n  ]\n}"
            }
          },
          "metadata": {},
          "execution_count": 28
        }
      ]
    },
    {
      "cell_type": "markdown",
      "source": [
        "# Definição de variaveis X e Y"
      ],
      "metadata": {
        "id": "RU5XBLkfxi8p"
      }
    },
    {
      "cell_type": "code",
      "source": [
        "x = df.drop('Weather Type', axis=1)\n",
        "y = df['Weather Type']"
      ],
      "metadata": {
        "id": "4dX_J0kjxnGx"
      },
      "execution_count": 30,
      "outputs": []
    },
    {
      "cell_type": "code",
      "source": [
        "x , y"
      ],
      "metadata": {
        "colab": {
          "base_uri": "https://localhost:8080/"
        },
        "id": "UXmZDs6Dx032",
        "outputId": "e6a0472e-2895-4a3e-e870-600a7f2acbd7"
      },
      "execution_count": 31,
      "outputs": [
        {
          "output_type": "execute_result",
          "data": {
            "text/plain": [
              "(       Temperature  Humidity  Wind Speed  Precipitation (%)  Cloud Cover  \\\n",
              " 0             14.0        73         9.5               82.0            3   \n",
              " 1             39.0        96         8.5               71.0            3   \n",
              " 2             30.0        64         7.0               16.0            0   \n",
              " 3             38.0        83         1.5               82.0            0   \n",
              " 4             27.0        74        17.0               66.0            2   \n",
              " ...            ...       ...         ...                ...          ...   \n",
              " 13195         10.0        74        14.5               71.0            2   \n",
              " 13196         -1.0        76         3.5               23.0            1   \n",
              " 13197         30.0        77         5.5               28.0            2   \n",
              " 13198          3.0        76        10.0               94.0            2   \n",
              " 13199         -5.0        38         0.0               92.0            2   \n",
              " \n",
              "        Atmospheric Pressure  UV Index  Season  Visibility (km)  Location  \n",
              " 0                   1010.82         2       3              3.5         1  \n",
              " 1                   1011.43         7       1             10.0         1  \n",
              " 2                   1018.72         5       1              5.5         2  \n",
              " 3                   1026.25         7       1              1.0         0  \n",
              " 4                    990.67         1       3              2.5         2  \n",
              " ...                     ...       ...     ...              ...       ...  \n",
              " 13195               1003.15         1       2              1.0         2  \n",
              " 13196               1067.23         1       3              6.0         0  \n",
              " 13197               1012.69         3       0              9.0         0  \n",
              " 13198                984.27         0       3              2.0         1  \n",
              " 13199               1015.37         5       0             10.0         2  \n",
              " \n",
              " [13200 rows x 10 columns],\n",
              " 0        1\n",
              " 1        0\n",
              " 2        3\n",
              " 3        3\n",
              " 4        1\n",
              "         ..\n",
              " 13195    1\n",
              " 13196    2\n",
              " 13197    0\n",
              " 13198    2\n",
              " 13199    1\n",
              " Name: Weather Type, Length: 13200, dtype: int64)"
            ]
          },
          "metadata": {},
          "execution_count": 31
        }
      ]
    },
    {
      "cell_type": "markdown",
      "source": [
        "# Treinamento"
      ],
      "metadata": {
        "id": "hK-u7BhRx-01"
      }
    },
    {
      "cell_type": "code",
      "source": [
        "from sklearn.model_selection import train_test_split\n",
        "x_treino, x_teste, y_treino, y_teste = train_test_split(x, y, test_size = 0.3)"
      ],
      "metadata": {
        "id": "RY9VaaMiyBvn"
      },
      "execution_count": 32,
      "outputs": []
    },
    {
      "cell_type": "code",
      "source": [
        "x_treino.shape, x_teste.shape"
      ],
      "metadata": {
        "colab": {
          "base_uri": "https://localhost:8080/"
        },
        "id": "V4iRLjeeyw6R",
        "outputId": "c75dd247-9914-4d90-e545-6f72080d748c"
      },
      "execution_count": 35,
      "outputs": [
        {
          "output_type": "execute_result",
          "data": {
            "text/plain": [
              "((9240, 10), (3960, 10))"
            ]
          },
          "metadata": {},
          "execution_count": 35
        }
      ]
    },
    {
      "cell_type": "code",
      "source": [
        "y_treino.shape, y_teste.shape"
      ],
      "metadata": {
        "colab": {
          "base_uri": "https://localhost:8080/"
        },
        "id": "LLbUgGLXy1ch",
        "outputId": "50100b2b-66c4-45e4-e291-f3cca3e2eeb8"
      },
      "execution_count": 36,
      "outputs": [
        {
          "output_type": "execute_result",
          "data": {
            "text/plain": [
              "((9240,), (3960,))"
            ]
          },
          "metadata": {},
          "execution_count": 36
        }
      ]
    },
    {
      "cell_type": "markdown",
      "source": [
        "#Criação da rede neural"
      ],
      "metadata": {
        "id": "Bi8OvmqKB3SS"
      }
    },
    {
      "cell_type": "code",
      "source": [
        "#rede neural\n",
        "from sklearn.neural_network import MLPClassifier\n",
        "rede_neural_Weather = MLPClassifier(max_iter = 2000, verbose = True, tol= 0.00001 , solver='adam', activation='relu', hidden_layer_sizes=(50,50,50,50))\n",
        "rede_neural_Weather.fit(x_treino, y_treino)"
      ],
      "metadata": {
        "colab": {
          "base_uri": "https://localhost:8080/",
          "height": 1000
        },
        "id": "959_BKDEyZEL",
        "outputId": "e8bc1644-526d-49bc-8b02-7914033e4ac6"
      },
      "execution_count": 111,
      "outputs": [
        {
          "output_type": "stream",
          "name": "stdout",
          "text": [
            "Iteration 1, loss = 4.92726677\n",
            "Iteration 2, loss = 1.00469542\n",
            "Iteration 3, loss = 0.85679317\n",
            "Iteration 4, loss = 0.73490068\n",
            "Iteration 5, loss = 0.71974606\n",
            "Iteration 6, loss = 0.68067482\n",
            "Iteration 7, loss = 0.63729439\n",
            "Iteration 8, loss = 0.60951904\n",
            "Iteration 9, loss = 0.58617393\n",
            "Iteration 10, loss = 0.59035359\n",
            "Iteration 11, loss = 0.55761722\n",
            "Iteration 12, loss = 0.58101143\n",
            "Iteration 13, loss = 0.51624919\n",
            "Iteration 14, loss = 0.52158715\n",
            "Iteration 15, loss = 0.54498420\n",
            "Iteration 16, loss = 0.52204385\n",
            "Iteration 17, loss = 0.52342261\n",
            "Iteration 18, loss = 0.51323682\n",
            "Iteration 19, loss = 0.51303756\n",
            "Iteration 20, loss = 0.45485044\n",
            "Iteration 21, loss = 0.48518347\n",
            "Iteration 22, loss = 0.44760953\n",
            "Iteration 23, loss = 0.44754784\n",
            "Iteration 24, loss = 0.44939842\n",
            "Iteration 25, loss = 0.51205317\n",
            "Iteration 26, loss = 0.53606540\n",
            "Iteration 27, loss = 0.42369565\n",
            "Iteration 28, loss = 0.41907202\n",
            "Iteration 29, loss = 0.41359372\n",
            "Iteration 30, loss = 0.42811755\n",
            "Iteration 31, loss = 0.41751995\n",
            "Iteration 32, loss = 0.43373916\n",
            "Iteration 33, loss = 0.42866149\n",
            "Iteration 34, loss = 0.47145165\n",
            "Iteration 35, loss = 0.41202544\n",
            "Iteration 36, loss = 0.41427182\n",
            "Iteration 37, loss = 0.37564855\n",
            "Iteration 38, loss = 0.39264469\n",
            "Iteration 39, loss = 0.37406641\n",
            "Iteration 40, loss = 0.40224362\n",
            "Iteration 41, loss = 0.38654626\n",
            "Iteration 42, loss = 0.41583956\n",
            "Iteration 43, loss = 0.37194659\n",
            "Iteration 44, loss = 0.35759353\n",
            "Iteration 45, loss = 0.35064368\n",
            "Iteration 46, loss = 0.35989010\n",
            "Iteration 47, loss = 0.36947237\n",
            "Iteration 48, loss = 0.35648480\n",
            "Iteration 49, loss = 0.37487286\n",
            "Iteration 50, loss = 0.36337577\n",
            "Iteration 51, loss = 0.35756408\n",
            "Iteration 52, loss = 0.37955678\n",
            "Iteration 53, loss = 0.34418374\n",
            "Iteration 54, loss = 0.36342653\n",
            "Iteration 55, loss = 0.34568121\n",
            "Iteration 56, loss = 0.33248433\n",
            "Iteration 57, loss = 0.32270797\n",
            "Iteration 58, loss = 0.37616797\n",
            "Iteration 59, loss = 0.35206701\n",
            "Iteration 60, loss = 0.35282590\n",
            "Iteration 61, loss = 0.33157948\n",
            "Iteration 62, loss = 0.33367641\n",
            "Iteration 63, loss = 0.33896262\n",
            "Iteration 64, loss = 0.35410321\n",
            "Iteration 65, loss = 0.33165802\n",
            "Iteration 66, loss = 0.31547881\n",
            "Iteration 67, loss = 0.32533394\n",
            "Iteration 68, loss = 0.33111469\n",
            "Iteration 69, loss = 0.33702637\n",
            "Iteration 70, loss = 0.32012081\n",
            "Iteration 71, loss = 0.32714445\n",
            "Iteration 72, loss = 0.32174339\n",
            "Iteration 73, loss = 0.31660566\n",
            "Iteration 74, loss = 0.33129487\n",
            "Iteration 75, loss = 0.32375969\n",
            "Iteration 76, loss = 0.33684908\n",
            "Iteration 77, loss = 0.30145902\n",
            "Iteration 78, loss = 0.30112785\n",
            "Iteration 79, loss = 0.31149368\n",
            "Iteration 80, loss = 0.31346765\n",
            "Iteration 81, loss = 0.31876355\n",
            "Iteration 82, loss = 0.30506880\n",
            "Iteration 83, loss = 0.31603665\n",
            "Iteration 84, loss = 0.30851037\n",
            "Iteration 85, loss = 0.32878436\n",
            "Iteration 86, loss = 0.31125244\n",
            "Iteration 87, loss = 0.33276957\n",
            "Iteration 88, loss = 0.31800714\n",
            "Iteration 89, loss = 0.36130881\n",
            "Training loss did not improve more than tol=0.000010 for 10 consecutive epochs. Stopping.\n"
          ]
        },
        {
          "output_type": "execute_result",
          "data": {
            "text/plain": [
              "MLPClassifier(hidden_layer_sizes=(50, 50, 50, 50), max_iter=2000, tol=1e-05,\n",
              "              verbose=True)"
            ],
            "text/html": [
              "<style>#sk-container-id-39 {color: black;background-color: white;}#sk-container-id-39 pre{padding: 0;}#sk-container-id-39 div.sk-toggleable {background-color: white;}#sk-container-id-39 label.sk-toggleable__label {cursor: pointer;display: block;width: 100%;margin-bottom: 0;padding: 0.3em;box-sizing: border-box;text-align: center;}#sk-container-id-39 label.sk-toggleable__label-arrow:before {content: \"▸\";float: left;margin-right: 0.25em;color: #696969;}#sk-container-id-39 label.sk-toggleable__label-arrow:hover:before {color: black;}#sk-container-id-39 div.sk-estimator:hover label.sk-toggleable__label-arrow:before {color: black;}#sk-container-id-39 div.sk-toggleable__content {max-height: 0;max-width: 0;overflow: hidden;text-align: left;background-color: #f0f8ff;}#sk-container-id-39 div.sk-toggleable__content pre {margin: 0.2em;color: black;border-radius: 0.25em;background-color: #f0f8ff;}#sk-container-id-39 input.sk-toggleable__control:checked~div.sk-toggleable__content {max-height: 200px;max-width: 100%;overflow: auto;}#sk-container-id-39 input.sk-toggleable__control:checked~label.sk-toggleable__label-arrow:before {content: \"▾\";}#sk-container-id-39 div.sk-estimator input.sk-toggleable__control:checked~label.sk-toggleable__label {background-color: #d4ebff;}#sk-container-id-39 div.sk-label input.sk-toggleable__control:checked~label.sk-toggleable__label {background-color: #d4ebff;}#sk-container-id-39 input.sk-hidden--visually {border: 0;clip: rect(1px 1px 1px 1px);clip: rect(1px, 1px, 1px, 1px);height: 1px;margin: -1px;overflow: hidden;padding: 0;position: absolute;width: 1px;}#sk-container-id-39 div.sk-estimator {font-family: monospace;background-color: #f0f8ff;border: 1px dotted black;border-radius: 0.25em;box-sizing: border-box;margin-bottom: 0.5em;}#sk-container-id-39 div.sk-estimator:hover {background-color: #d4ebff;}#sk-container-id-39 div.sk-parallel-item::after {content: \"\";width: 100%;border-bottom: 1px solid gray;flex-grow: 1;}#sk-container-id-39 div.sk-label:hover label.sk-toggleable__label {background-color: #d4ebff;}#sk-container-id-39 div.sk-serial::before {content: \"\";position: absolute;border-left: 1px solid gray;box-sizing: border-box;top: 0;bottom: 0;left: 50%;z-index: 0;}#sk-container-id-39 div.sk-serial {display: flex;flex-direction: column;align-items: center;background-color: white;padding-right: 0.2em;padding-left: 0.2em;position: relative;}#sk-container-id-39 div.sk-item {position: relative;z-index: 1;}#sk-container-id-39 div.sk-parallel {display: flex;align-items: stretch;justify-content: center;background-color: white;position: relative;}#sk-container-id-39 div.sk-item::before, #sk-container-id-39 div.sk-parallel-item::before {content: \"\";position: absolute;border-left: 1px solid gray;box-sizing: border-box;top: 0;bottom: 0;left: 50%;z-index: -1;}#sk-container-id-39 div.sk-parallel-item {display: flex;flex-direction: column;z-index: 1;position: relative;background-color: white;}#sk-container-id-39 div.sk-parallel-item:first-child::after {align-self: flex-end;width: 50%;}#sk-container-id-39 div.sk-parallel-item:last-child::after {align-self: flex-start;width: 50%;}#sk-container-id-39 div.sk-parallel-item:only-child::after {width: 0;}#sk-container-id-39 div.sk-dashed-wrapped {border: 1px dashed gray;margin: 0 0.4em 0.5em 0.4em;box-sizing: border-box;padding-bottom: 0.4em;background-color: white;}#sk-container-id-39 div.sk-label label {font-family: monospace;font-weight: bold;display: inline-block;line-height: 1.2em;}#sk-container-id-39 div.sk-label-container {text-align: center;}#sk-container-id-39 div.sk-container {/* jupyter's `normalize.less` sets `[hidden] { display: none; }` but bootstrap.min.css set `[hidden] { display: none !important; }` so we also need the `!important` here to be able to override the default hidden behavior on the sphinx rendered scikit-learn.org. See: https://github.com/scikit-learn/scikit-learn/issues/21755 */display: inline-block !important;position: relative;}#sk-container-id-39 div.sk-text-repr-fallback {display: none;}</style><div id=\"sk-container-id-39\" class=\"sk-top-container\"><div class=\"sk-text-repr-fallback\"><pre>MLPClassifier(hidden_layer_sizes=(50, 50, 50, 50), max_iter=2000, tol=1e-05,\n",
              "              verbose=True)</pre><b>In a Jupyter environment, please rerun this cell to show the HTML representation or trust the notebook. <br />On GitHub, the HTML representation is unable to render, please try loading this page with nbviewer.org.</b></div><div class=\"sk-container\" hidden><div class=\"sk-item\"><div class=\"sk-estimator sk-toggleable\"><input class=\"sk-toggleable__control sk-hidden--visually\" id=\"sk-estimator-id-39\" type=\"checkbox\" checked><label for=\"sk-estimator-id-39\" class=\"sk-toggleable__label sk-toggleable__label-arrow\">MLPClassifier</label><div class=\"sk-toggleable__content\"><pre>MLPClassifier(hidden_layer_sizes=(50, 50, 50, 50), max_iter=2000, tol=1e-05,\n",
              "              verbose=True)</pre></div></div></div></div></div>"
            ]
          },
          "metadata": {},
          "execution_count": 111
        }
      ]
    },
    {
      "cell_type": "code",
      "source": [
        "#teste de acuracia\n",
        "acuracia = rede_neural_Weather.score(x_teste, y_teste)\n",
        "print('a acuracia foi de:', acuracia)"
      ],
      "metadata": {
        "colab": {
          "base_uri": "https://localhost:8080/"
        },
        "id": "0T2DIe8aydh5",
        "outputId": "edd39f7c-047f-4971-d62d-0d4524a257da"
      },
      "execution_count": 112,
      "outputs": [
        {
          "output_type": "stream",
          "name": "stdout",
          "text": [
            "a acuracia foi de: 0.8952020202020202\n"
          ]
        }
      ]
    },
    {
      "cell_type": "code",
      "source": [
        "#teste\n",
        "previsoes = rede_neural_Weather.predict(x_teste)\n",
        "previsoes[50:55]\n"
      ],
      "metadata": {
        "colab": {
          "base_uri": "https://localhost:8080/"
        },
        "id": "op2Y1L7w-uJB",
        "outputId": "924fdf1a-ea44-4318-93fc-cd9117357c47"
      },
      "execution_count": 136,
      "outputs": [
        {
          "output_type": "execute_result",
          "data": {
            "text/plain": [
              "array([1, 3, 2, 2, 0])"
            ]
          },
          "metadata": {},
          "execution_count": 136
        }
      ]
    },
    {
      "cell_type": "code",
      "source": [
        "y_teste[50:55]"
      ],
      "metadata": {
        "colab": {
          "base_uri": "https://localhost:8080/"
        },
        "id": "-t6mI9Ef_Wt5",
        "outputId": "af18e247-70c0-4452-93b7-968327c645c2"
      },
      "execution_count": 135,
      "outputs": [
        {
          "output_type": "execute_result",
          "data": {
            "text/plain": [
              "1047    1\n",
              "7801    1\n",
              "4002    2\n",
              "6130    2\n",
              "3599    0\n",
              "Name: Weather Type, dtype: int64"
            ]
          },
          "metadata": {},
          "execution_count": 135
        }
      ]
    },
    {
      "cell_type": "markdown",
      "source": [
        "Resumão do problema:\n",
        "estamos com um problema de classificação de uma empresa meteorológica X. Onde, devemos criar uma maquina que prevê atraves de alguns dados como, temperatura, umidade, estação e etc, se vai chover ou não.\n",
        "\n",
        "1- devemos identificar qual é o alvo do problema\n",
        "2 - devemos regularizar o tipo de dados proposto no dataset\n",
        "3 - criar uma maquina preditiva para solucionar o problema"
      ],
      "metadata": {
        "id": "8-0nl-WMAP7R"
      }
    },
    {
      "cell_type": "markdown",
      "source": [
        "Como esse módulo é voltado para o estudo de redes neurais, usei a metodologia já citada, fazendo proveito da bibliotaca Sklearn e seus recursos como treinamento, Label encoder e etc.\n",
        "\n",
        "tambem usei bibliotecas mais convencionais para importação e analise de dados, como pandas e numpy, ambas já citadas nesse perfil."
      ],
      "metadata": {
        "id": "5k9LFJNjA74J"
      }
    },
    {
      "cell_type": "markdown",
      "source": [
        "considerações\n",
        "\n",
        "1 - Usando 3 camadas ocultas com 4 neuronios cada, obtivemos uma acuracia de 87%\n",
        "\n",
        " 2 - O modelo não consegiu interagir com o limite de 1000 interações proposto como parametro\n",
        "\n",
        "3- Nem os parametros de solver 'lbfgs' ou 'sgd' conseguiram um resultado mais satisfatorio como o 'adam'\n",
        "\n",
        "4 - A 'activation' 'relu' e 'logistic', obtiveram resultados similares, com diferenças minimas.\n",
        "\n",
        "5 - aumentando o numero de interaçoes para 2000, a quantidade de neuronios em cada camada e a tolerancia, não conseguimos interagir com o numero proposto. Porem, obtivemos um resultado de acuracia maior, 89%.\n",
        "\n",
        "6- de 6 linhas de testes, a maquina consegiu prever em 5. É um resultado positivo? Sim. Porém, devemos melhorar os parametros para melhor acuracia"
      ],
      "metadata": {
        "id": "yZR8O-UB01sJ"
      }
    }
  ]
}